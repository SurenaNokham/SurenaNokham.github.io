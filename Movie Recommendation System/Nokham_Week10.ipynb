{
 "cells": [
  {
   "cell_type": "code",
   "execution_count": 1,
   "id": "e8c16138",
   "metadata": {},
   "outputs": [],
   "source": [
    "# Author: Surena Nokham\n",
    "# Week 10: Recommender Systems\n",
    "# Date: 2/18/2023"
   ]
  },
  {
   "cell_type": "markdown",
   "id": "7b3ec6c4",
   "metadata": {},
   "source": [
    "# Week 10 - Recommender Systems"
   ]
  },
  {
   "cell_type": "markdown",
   "id": "ed7e7df0",
   "metadata": {},
   "source": [
    "Using the small MovieLens data set, create a recommender system that allows users to input a movie they like (in the data set) and recommends ten other movies for them to watch. In your write-up, clearly explain the recommender system process and all steps performed. If you are using a method found online, be sure to reference the source.\n",
    "You can use R or Python to complete this assignment. Submit your code and output to the submission link. Make sure to add comments to all of your code and to document your steps, process, and analysis."
   ]
  },
  {
   "cell_type": "markdown",
   "id": "8b1fb581",
   "metadata": {},
   "source": [
    "**Recommender System Process: TF-IDF-based Movie Recommendations**"
   ]
  },
  {
   "cell_type": "code",
   "execution_count": 2,
   "id": "69e7e65e",
   "metadata": {},
   "outputs": [],
   "source": [
    "# Load necessary libraries\n",
    "import pandas as pd\n",
    "from sklearn.feature_extraction.text import TfidfVectorizer\n",
    "from sklearn.metrics.pairwise import linear_kernel"
   ]
  },
  {
   "cell_type": "markdown",
   "id": "6a4422b9",
   "metadata": {},
   "source": [
    "- Load necessary libraries:\n",
    "The initial step involves importing essential libraries, including pandas for data manipulation and TfidfVectorizer along with linear_kernel from sklearn for implementing the TF-IDF vectorization and cosine similarity calculations."
   ]
  },
  {
   "cell_type": "code",
   "execution_count": 3,
   "id": "21315cf9",
   "metadata": {},
   "outputs": [],
   "source": [
    "# Load the dataset\n",
    "movies_df = pd.read_csv('movies.csv')"
   ]
  },
  {
   "cell_type": "markdown",
   "id": "522692ea",
   "metadata": {},
   "source": [
    "- Load the dataset:\n",
    "The movie dataset is loaded into a Pandas DataFrame using the pd.read_csv function."
   ]
  },
  {
   "cell_type": "code",
   "execution_count": 4,
   "id": "8a27274f",
   "metadata": {},
   "outputs": [],
   "source": [
    "# Initialize TF-IDF Vectorizer\n",
    "tfidf = TfidfVectorizer(stop_words='english')"
   ]
  },
  {
   "cell_type": "markdown",
   "id": "e681240d",
   "metadata": {},
   "source": [
    "- Initialize TF-IDF Vectorizer:\n",
    "A TF-IDF Vectorizer is set up with English stop words to convert the textual movie genres into a TF-IDF matrix representation."
   ]
  },
  {
   "cell_type": "code",
   "execution_count": 5,
   "id": "9f63aef6",
   "metadata": {},
   "outputs": [],
   "source": [
    "# Replace NaN values with empty strings\n",
    "movies_df['genres'] = movies_df['genres'].fillna('')"
   ]
  },
  {
   "cell_type": "markdown",
   "id": "eaa19c96",
   "metadata": {},
   "source": [
    "- Replace NaN values with empty strings:\n",
    "Any missing values in the 'genres' column of the dataset are replaced with empty strings to ensure seamless processing."
   ]
  },
  {
   "cell_type": "code",
   "execution_count": 6,
   "id": "0bf546ca",
   "metadata": {},
   "outputs": [],
   "source": [
    "# Build the TF-IDF matrix\n",
    "tfidf_matrix = tfidf.fit_transform(movies_df['genres'])"
   ]
  },
  {
   "cell_type": "markdown",
   "id": "96701f5f",
   "metadata": {},
   "source": [
    "- Build the TF-IDF matrix:\n",
    "The TF-IDF matrix is constructed by fitting and transforming the movie genres using the initialized TF-IDF Vectorizer."
   ]
  },
  {
   "cell_type": "code",
   "execution_count": 7,
   "id": "ae693f88",
   "metadata": {},
   "outputs": [],
   "source": [
    "# Calculate the cosine similarity matrix\n",
    "cosine_sim = linear_kernel(tfidf_matrix, tfidf_matrix)"
   ]
  },
  {
   "cell_type": "markdown",
   "id": "37a106d7",
   "metadata": {},
   "source": [
    "- Calculate the cosine similarity matrix:\n",
    "Using the linear kernel function, the cosine similarity matrix is computed based on the TF-IDF matrix."
   ]
  },
  {
   "cell_type": "code",
   "execution_count": 8,
   "id": "7a06954c",
   "metadata": {},
   "outputs": [],
   "source": [
    "# Create movie recommendation function\n",
    "def recommend_movies(movie_title, cosine_sim=cosine_sim):\n",
    "    # Get index of movie that matches the title\n",
    "    idx = movies_df.loc[movies_df['title'].str.lower() == movie_title.lower()].index[0]\n",
    "\n",
    "    # Compute pairwise movie similarity scores\n",
    "    sim_scores = list(enumerate(cosine_sim[idx]))\n",
    "\n",
    "    # Sort movies based on scores\n",
    "    sim_scores = sorted(sim_scores, key=lambda x: x[1], reverse=True)\n",
    "\n",
    "    # Retrieve scores for the top 10 similar movies\n",
    "    sim_scores = sim_scores[1:11]\n",
    "\n",
    "    # Get the movie indices\n",
    "    movie_indices = [i[0] for i in sim_scores]\n",
    "\n",
    "    # Provide the top 10 similar movies\n",
    "    return movies_df['title'].iloc[movie_indices]"
   ]
  },
  {
   "cell_type": "markdown",
   "id": "0543d17b",
   "metadata": {},
   "source": [
    "- **Create a movie recommendation function:\n",
    "A function named recommend_movies is defined to take a movie title as input and return the top 10 recommended movies based on cosine similarity scores.**\n",
    "\n",
    "    1. Input Matching: The function takes two parameters: movie_title (the input movie for which recommendations are sought) and cosine_sim (the precomputed cosine similarity matrix).\n",
    "    2. Movie Index Retrieval: It starts by finding the index of the movie in the dataset that matches the input title. The .str.lower() ensures case-insensitive matching, and .index[0] retrieves the index of the first matching movie.\n",
    "    3. Pairwise Similarity Computation: It then computes the pairwise movie similarity scores for the input movie by extracting the corresponding row from the cosine similarity matrix.\n",
    "    4. Sorting by Scores: The movie indices and their similarity scores are stored as tuples in a list, and the list is sorted based on similarity scores in descending order.\n",
    "    5. Top 10 Similar Movies Selection: The function then selects the top 10 similar movies by slicing the sorted list, excluding the input movie itself (hence starting from index 1).\n",
    "    6. Index Extraction: It extracts the indices of the top 10 similar movies from the sorted list.\n",
    "    7. Recommendation Output: Finally, it returns the titles of the top 10 similar movies based on the obtained indices."
   ]
  },
  {
   "cell_type": "code",
   "execution_count": 9,
   "id": "bb3a7f1f",
   "metadata": {},
   "outputs": [
    {
     "name": "stdout",
     "output_type": "stream",
     "text": [
      "Movies recommended for you based on Stardust (2007) :\n"
     ]
    },
    {
     "data": {
      "text/plain": [
       "24239                       Santos (2008)\n",
       "51220           The Carmilla Movie (2017)\n",
       "54623    Legend of the Naga Pearls (2017)\n",
       "10830                        Click (2006)\n",
       "2053                        Legend (1985)\n",
       "3382                     Ladyhawke (1985)\n",
       "10522                          She (1935)\n",
       "13667      Secret of Moonacre, The (2008)\n",
       "22602            Thief of Damascus (1952)\n",
       "44163                He's a Dragon (2015)\n",
       "Name: title, dtype: object"
      ]
     },
     "execution_count": 9,
     "metadata": {},
     "output_type": "execute_result"
    }
   ],
   "source": [
    "# Test recommender system\n",
    "input_movie = \"Stardust (2007)\"\n",
    "recommended_movies = recommend_movies(input_movie)\n",
    "print(\"Movies recommended for you based on\", input_movie, \":\")\n",
    "recommended_movies"
   ]
  },
  {
   "cell_type": "markdown",
   "id": "bf0fe0eb",
   "metadata": {},
   "source": [
    "- Test the recommender system:\n",
    "Finally, a test is conducted by providing a sample movie title (\"Stardust (2007)\") to the recommendation function. The results are printed to the console.\n",
    "\n",
    "- This series of steps outlines the process of creating a movie recommender system using TF-IDF vectorization and cosine similarity calculations based on movie genres."
   ]
  }
 ],
 "metadata": {
  "kernelspec": {
   "display_name": "Python 3 (ipykernel)",
   "language": "python",
   "name": "python3"
  },
  "language_info": {
   "codemirror_mode": {
    "name": "ipython",
    "version": 3
   },
   "file_extension": ".py",
   "mimetype": "text/x-python",
   "name": "python",
   "nbconvert_exporter": "python",
   "pygments_lexer": "ipython3",
   "version": "3.9.13"
  }
 },
 "nbformat": 4,
 "nbformat_minor": 5
}
